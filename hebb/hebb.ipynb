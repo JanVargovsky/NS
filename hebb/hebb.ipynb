{
 "cells": [
  {
   "cell_type": "markdown",
   "metadata": {},
   "source": [
    "# Hebb's learning\n",
    "- Basic neuron\n",
    "  - load XML, rescale\n",
    "  - generate random values that are linearly separable in R^2 (0;1)\n",
    "- plot points\n",
    "- learn\n",
    "- plot points with neuron's line"
   ]
  },
  {
   "cell_type": "code",
   "execution_count": 83,
   "metadata": {},
   "outputs": [],
   "source": [
    "import numpy as np\n",
    "import math\n",
    "import xml.etree.ElementTree as ET\n",
    "import matplotlib.pyplot as plt"
   ]
  },
  {
   "cell_type": "code",
   "execution_count": 99,
   "metadata": {},
   "outputs": [],
   "source": [
    "plt.style.use(\"ggplot\")"
   ]
  },
  {
   "cell_type": "code",
   "execution_count": 187,
   "metadata": {},
   "outputs": [],
   "source": [
    "def parse_xml(filename):\n",
    "    def parse_inputs(perceptron):\n",
    "        for input in perceptron.findall(\"inputDescriptions\"):\n",
    "            yield {\n",
    "                'min': float(input.find('minimum').text),\n",
    "                'max': float(input.find('maximum').text),\n",
    "                'name': input.find('name').text\n",
    "            }\n",
    "            \n",
    "    def parse_dataset_x(dataset):\n",
    "        for element in dataset.findall(\"element\"):\n",
    "            x = list(map(lambda value: float(value.text), element.find(\"inputs\").findall(\"value\")))\n",
    "            yield x\n",
    "            \n",
    "    def parse_dataset_y(dataset):\n",
    "        for element in dataset.findall(\"element\"):\n",
    "            y = float(element.find(\"output\").text)\n",
    "            yield y\n",
    "    \n",
    "    tree = ET.parse(f\"{filename}\")\n",
    "    root = tree.getroot()\n",
    "    inputs = list(parse_inputs(root.find(\"perceptron\")))\n",
    "    train_x = list(parse_dataset_x(root.find(\"TrainSet\")))\n",
    "    train_y = list(parse_dataset_y(root.find(\"TrainSet\")))\n",
    "    test = list(parse_dataset_x(root.find(\"TestSet\")))\n",
    "    \n",
    "    return (inputs, (train_x, train_y), test)"
   ]
  },
  {
   "cell_type": "code",
   "execution_count": 196,
   "metadata": {},
   "outputs": [],
   "source": [
    "def plot_train(x, y):\n",
    "    x0 = list(map(lambda x: x[0], x))\n",
    "    x1 = list(map(lambda x: x[1], x))\n",
    "    \n",
    "    x0a, x1a = [], [] # 0\n",
    "    x0b, x1b = [], [] # 1\n",
    "    for xi, y in zip(x, y):\n",
    "        if y == 0:\n",
    "            x0a.append(xi[0])\n",
    "            x1a.append(xi[1])\n",
    "        else:\n",
    "            x0b.append(xi[0])\n",
    "            x1b.append(xi[1])\n",
    "    \n",
    "    plt.scatter(x0a, x1a, marker=\"o\", label=\"train 0\")\n",
    "    plt.scatter(x0b, x1b, marker=\"x\", label=\"train 1\")\n",
    "    \n",
    "def plot_test(x):\n",
    "    x0 = list(map(lambda x: x[0], x))\n",
    "    x1 = list(map(lambda x: x[1], x))\n",
    "    plt.scatter(x0, x1, s=100, marker=\"$?$\", label=\"test\")"
   ]
  },
  {
   "cell_type": "code",
   "execution_count": 183,
   "metadata": {},
   "outputs": [],
   "source": [
    "def rescale(inputs, dataset):    \n",
    "    result = []\n",
    "    for x in dataset:\n",
    "        record = []\n",
    "        for i, xi in enumerate(x):\n",
    "            min = inputs[i][\"min\"]\n",
    "            max = inputs[i][\"max\"]\n",
    "            record.append((xi - min) / (max - min))\n",
    "        result.append(record)\n",
    "    return result"
   ]
  },
  {
   "cell_type": "code",
   "execution_count": 198,
   "metadata": {},
   "outputs": [
    {
     "data": {
      "image/png": "[encoded data removed]",
      "text/plain": [
       "<Figure size 1152x576 with 2 Axes>"
      ]
     },
     "metadata": {},
     "output_type": "display_data"
    }
   ],
   "source": [
    "def solve(filename):\n",
    "    inputs, (train_x, train_y), test = parse_xml(filename)\n",
    "    \n",
    "    #print(inputs, train_x, train_y, test)\n",
    "    \n",
    "    plt.figure(figsize=(16, 8))\n",
    "    plt.subplot(1, 2, 1)\n",
    "    plt.title(\"original\")\n",
    "    plot_train(train_x, train_y)\n",
    "    plot_test(test)\n",
    "    plt.legend()\n",
    "    \n",
    "    train_x = rescale(inputs, train_x)\n",
    "    test = rescale(inputs, test)\n",
    "    \n",
    "    plt.subplot(1, 2, 2)\n",
    "    plt.title(\"rescaled\")\n",
    "    plot_train(train_x, train_y)\n",
    "    plot_test(test)\n",
    "    plt.legend()\n",
    "    plt.show()\n",
    "    \n",
    "solve(\"obdelnik_rozsah.xml\")"
   ]
  },
  {
   "cell_type": "code",
   "execution_count": 37,
   "metadata": {},
   "outputs": [],
   "source": [
    "class Neuron:\n",
    "    def __init__(self, n):\n",
    "        self.n = n\n",
    "        self.w = np.random.rand(n + 1)\n",
    "        self.w[0] = 1\n",
    "        \n",
    "    def train(self, x):\n",
    "        pass\n",
    "    \n",
    "    def predict(self, input):\n",
    "        x = np.append([1], input)\n",
    "        \n",
    "        value = np.dot(self.w, x)\n",
    "        value = self._sign(value)\n",
    "        return value\n",
    "    \n",
    "    def _sign(self, x):\n",
    "        return 0 if x <= 0 else 1"
   ]
  },
  {
   "cell_type": "code",
   "execution_count": 16,
   "metadata": {},
   "outputs": [
    {
     "name": "stdout",
     "output_type": "stream",
     "text": [
      "[1.00000000e+000 1.17707925e-311 4.94065646e-324 1.00000000e+000]\n",
      "[1 2]\n"
     ]
    }
   ],
   "source": [
    "a = np.empty(3)\n",
    "a = np.append([1], a)\n",
    "x = np.array([1,2])\n",
    "print(a)\n",
    "print(x)\n",
    "#np.copyto(a, x)"
   ]
  },
  {
   "cell_type": "code",
   "execution_count": 39,
   "metadata": {},
   "outputs": [],
   "source": [
    "neuron = Neuron(2)"
   ]
  },
  {
   "cell_type": "code",
   "execution_count": 26,
   "metadata": {},
   "outputs": [
    {
     "data": {
      "text/plain": [
       "array([1.        , 0.29564628, 0.14026763])"
      ]
     },
     "execution_count": 26,
     "metadata": {},
     "output_type": "execute_result"
    }
   ],
   "source": [
    "neuron.w"
   ]
  },
  {
   "cell_type": "code",
   "execution_count": 42,
   "metadata": {},
   "outputs": [
    {
     "data": {
      "text/plain": [
       "0"
      ]
     },
     "execution_count": 42,
     "metadata": {},
     "output_type": "execute_result"
    }
   ],
   "source": [
    "neuron.predict([-10, -1])"
   ]
  }
 ],
 "metadata": {
  "kernelspec": {
   "display_name": "Python 3",
   "language": "python",
   "name": "python3"
  },
  "language_info": {
   "codemirror_mode": {
    "name": "ipython",
    "version": 3
   },
   "file_extension": ".py",
   "mimetype": "text/x-python",
   "name": "python",
   "nbconvert_exporter": "python",
   "pygments_lexer": "ipython3",
   "version": "3.6.8"
  }
 },
 "nbformat": 4,
 "nbformat_minor": 2
}

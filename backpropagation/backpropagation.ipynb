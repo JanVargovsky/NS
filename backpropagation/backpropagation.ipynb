{
 "cells": [
  {
   "cell_type": "code",
   "execution_count": 157,
   "metadata": {},
   "outputs": [],
   "source": [
    "import xml.etree.ElementTree as ET\n",
    "from collections import namedtuple\n",
    "import math\n",
    "import itertools\n",
    "import numpy as np\n",
    "import matplotlib.pyplot as plt"
   ]
  },
  {
   "cell_type": "code",
   "execution_count": 158,
   "metadata": {},
   "outputs": [],
   "source": [
    "plt.style.use('ggplot')"
   ]
  },
  {
   "cell_type": "code",
   "execution_count": 298,
   "metadata": {},
   "outputs": [],
   "source": [
    "InputDescription = namedtuple('InputDescription', ['name', 'minimum', 'maximum'])\n",
    "\n",
    "def load_file(filename):\n",
    "    tree = ET.parse(filename)\n",
    "    root = tree.getroot()\n",
    "    \n",
    "    inputsCount = int(root.find('inputsCount').text)\n",
    "    inputDescriptions = []\n",
    "    for node in root.find('inputDescriptions').findall('inputDescription'):\n",
    "        inputDescriptions.append(InputDescription(\n",
    "            node.find('name').text, \n",
    "            float(node.find('minimum').text), \n",
    "            float(node.find('maximum').text)))\n",
    "    assert inputsCount == len(inputDescriptions)\n",
    "        \n",
    "    learningRate = float(root.find('learningRate').text)\n",
    "\n",
    "    layersCount = int(root.find('layersCount').text)\n",
    "    layers = []\n",
    "    for node in root.find('neuronInLayersCount').findall('neuronInLayerCount'):\n",
    "        layers.append(int(node.text))\n",
    "    assert layersCount == len(layers)\n",
    "    \n",
    "    outputDescriptions = []\n",
    "    for node in root.find('outputDescriptions').findall('outputDescription'):\n",
    "        outputDescriptions.append(node.text)\n",
    "        \n",
    "    test = []\n",
    "    for element in root.find('testSet').findall('testSetElement'):\n",
    "        inputs = []\n",
    "        for node in element.find('inputs').findall('value'):\n",
    "            inputs.append(float(node.text))\n",
    "        test.append(inputs)\n",
    "        \n",
    "    train_x = []\n",
    "    train_y = []\n",
    "    for element in root.find('trainSet').findall('trainSetElement'):\n",
    "        inputs = []\n",
    "        for node in element.find('inputs').findall('value'):\n",
    "            inputs.append(float(node.text))\n",
    "        outputs = []\n",
    "        for node in element.find('outputs').findall('value'):\n",
    "            outputs.append(float(node.text))\n",
    "        train_x.append(inputs)\n",
    "        train_y.append(outputs)\n",
    "    \n",
    "    return {\n",
    "        'inputDescriptions': inputDescriptions,\n",
    "        'learningRate': learningRate,\n",
    "        'layers': layers,\n",
    "        'outputDescriptions': outputDescriptions,\n",
    "        'test': test,\n",
    "        'train': (train_x, train_y)\n",
    "    }"
   ]
  },
  {
   "cell_type": "code",
   "execution_count": 230,
   "metadata": {},
   "outputs": [],
   "source": [
    "class Sigmoid:\n",
    "    def output(self, x):\n",
    "        return 1 / (1 + math.exp(-x))\n",
    "    def derivative(self, x):\n",
    "        output = self.output(x)\n",
    "        return output * (1 - output)\n",
    "    \n",
    "class Relu:\n",
    "    def output(self, x):\n",
    "        return max(0, x)\n",
    "    def derivative(self, x):\n",
    "        return 0 if x <= 0 else 1"
   ]
  },
  {
   "cell_type": "code",
   "execution_count": 365,
   "metadata": {},
   "outputs": [],
   "source": [
    "class Node:\n",
    "    def __init__(self, activation):\n",
    "        self.activation = activation\n",
    "        self.inputs = []\n",
    "        self.outputs = []\n",
    "        self.output = None\n",
    "        \n",
    "    def forward(self):\n",
    "        y = [edge.w * edge.nodeFrom.output for edge in self.inputs]\n",
    "        self.output = self.activation.output(sum(y))\n",
    "\n",
    "class Edge:\n",
    "    def __init__(self, nodeFrom, nodeTo):\n",
    "        self.nodeFrom = nodeFrom\n",
    "        self.nodeFo = nodeTo\n",
    "        self.w = np.random.normal()\n",
    "        \n",
    "class NeuralNetwork:\n",
    "    def __init__(self, layers):\n",
    "        self.layers = layers\n",
    "    \n",
    "    def train(self, data_x, data_y, learning_rate):\n",
    "        pass\n",
    "    \n",
    "    def predict(self, x):        \n",
    "        return [self.predict_single(item) for item in x]\n",
    "    \n",
    "    def predict_single(self, x):\n",
    "        assert len(self.layers[0]) == len(x)\n",
    "        \n",
    "        for node, xi in zip(self.layers[0], x):\n",
    "            node.output = xi\n",
    "        \n",
    "        for layer in self.layers[1:]:\n",
    "            for node in layer:\n",
    "                node.forward()\n",
    "                \n",
    "        return [node.output for node in self.layers[-1]]\n",
    "        \n",
    "class NeuralNetworkBuilder:\n",
    "    @staticmethod\n",
    "    def build(input_dim, layerDims, activation):\n",
    "        layers = []\n",
    "        \n",
    "        layers.append([Node(activation) for _ in range(input_dim)])\n",
    "        for l in layerDims:\n",
    "            layers.append([Node(activation) for _ in range(l)])\n",
    "        \n",
    "        for i in range(1, len(layers)):\n",
    "            for previous, current in itertools.product(layers[i - 1], layers[i]):\n",
    "                edge = Edge(previous, current)\n",
    "                previous.outputs.append(edge)\n",
    "                current.inputs.append(edge)\n",
    "        \n",
    "        return NeuralNetwork(layers)"
   ]
  },
  {
   "cell_type": "code",
   "execution_count": 283,
   "metadata": {},
   "outputs": [],
   "source": [
    "def plot_space(nn):\n",
    "    step = 0.05\n",
    "    v = np.arange(-10, 10 + step)\n",
    "    x0, x1 = np.meshgrid(v, v)\n",
    "    data_x = np.c_[x0.flatten(), x1.flatten()]\n",
    "    data_y = np.array(nn.predict(data_x)).flatten()\n",
    "\n",
    "    plt.contourf(x0, x1, data_y.reshape(x0.shape), cmap=plt.cm.bwr_r, alpha=0.5)"
   ]
  },
  {
   "cell_type": "code",
   "execution_count": 367,
   "metadata": {},
   "outputs": [
    {
     "data": {
      "image/png": "[encoded data removed]",
      "text/plain": [
       "<Figure size 432x288 with 1 Axes>"
      ]
     },
     "metadata": {},
     "output_type": "display_data"
    }
   ],
   "source": [
    "nn = NeuralNetworkBuilder.build(len(configuration['inputDescriptions']), configuration['layers'], Sigmoid())\n",
    "plot_space(nn)"
   ]
  },
  {
   "cell_type": "code",
   "execution_count": 390,
   "metadata": {},
   "outputs": [
    {
     "data": {
      "text/plain": [
       "[[0], [0], [0.020043008171011945], [0]]"
      ]
     },
     "metadata": {},
     "output_type": "display_data"
    },
    {
     "data": {
      "image/png": "[encoded data removed]",
      "text/plain": [
       "<Figure size 432x288 with 1 Axes>"
      ]
     },
     "metadata": {},
     "output_type": "display_data"
    }
   ],
   "source": [
    "nn = NeuralNetworkBuilder.build(2, [2, 1], Relu())\n",
    "train_x = [[0, 0], [0, 1], [1, 0], [1, 1]]\n",
    "train_y = [0, 1, 1, 0]\n",
    "display(nn.predict(train_x))\n",
    "plot_space(nn)"
   ]
  },
  {
   "cell_type": "code",
   "execution_count": 299,
   "metadata": {},
   "outputs": [],
   "source": [
    "#configuration = load_file(\"lekar.xml\")\n",
    "configuration = load_file(\"example2D_1.xml\")\n",
    "#configuration = load_file(\"example2D_2.xml\")\n",
    "#configuration = load_file(\"example2D_3.xml\")\n",
    "\n",
    "train_x, train_y = configuration['train']\n",
    "nn.train(train_x, train_y, configuration['learningRate'])"
   ]
  }
 ],
 "metadata": {
  "kernelspec": {
   "display_name": "Python 3",
   "language": "python",
   "name": "python3"
  },
  "language_info": {
   "codemirror_mode": {
    "name": "ipython",
    "version": 3
   },
   "file_extension": ".py",
   "mimetype": "text/x-python",
   "name": "python",
   "nbconvert_exporter": "python",
   "pygments_lexer": "ipython3",
   "version": "3.6.8"
  }
 },
 "nbformat": 4,
 "nbformat_minor": 2
}
